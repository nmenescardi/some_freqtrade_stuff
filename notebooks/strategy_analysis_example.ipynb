{
 "cells": [
  {
   "cell_type": "code",
   "execution_count": 122,
   "metadata": {},
   "outputs": [
    {
     "name": "stdout",
     "output_type": "stream",
     "text": [
      "dict_keys(['strategy', 'strategy_comparison'])\n",
      "dict_keys(['strategy', 'strategy_comparison'])\n",
      "dict_keys(['strategy', 'strategy_comparison'])\n"
     ]
    }
   ],
   "source": [
    "import os\n",
    "os.chdir('/freqtrade/')\n",
    "\n",
    "\n",
    "import pandas as pd\n",
    "from freqtrade.data.btanalysis import load_backtest_data, load_backtest_stats\n",
    "from pathlib import Path\n",
    "\n",
    "backtest_dir = config[\"user_data_dir\"] / \"backtest_results\"\n",
    "\n",
    "report_columns = [\n",
    "    \"Backtest\",\n",
    "    \"Period\",\n",
    "    \"Strategy\",\n",
    "    \"MOT\",\n",
    "    \"Total_Profit\",\n",
    "    \"Max_Drawdown\"\n",
    "]\n",
    "df = pd.DataFrame(columns = report_columns)\n",
    "\n",
    "backtest_list = Path(backtest_dir).rglob('*.json')\n",
    "for path in backtest_list:\n",
    "    backtest_file_path = str(path)\n",
    "        \n",
    "    if \".last_result.json\" in backtest_file_path:\n",
    "        continue\n",
    "    \n",
    "    #print(backtest_file_path)\n",
    "    stats = load_backtest_stats(backtest_file_path)\n",
    "    #data = load_backtest_data(backtest_file_path)\n",
    "    print(stats.keys())\n",
    "\n",
    "    import ntpath\n",
    "    backtest_name = ntpath.basename(backtest_file_path)\n",
    "    \n",
    "    for strategy, stats in stats['strategy'].items():\n",
    "        #print(strategy + \": \")\n",
    "        #print(stats['max_drawdown'])\n",
    "        #print(stats['profit_total'])\n",
    "        #print(stats['backtest_start'])\n",
    "        #print(stats['backtest_end'])\n",
    "        \n",
    "        period = stats['backtest_start'][0:10] + '__' + stats['backtest_end'][0:10]\n",
    "\n",
    "        new_row = {\n",
    "            \"Backtest\": '', #backtest_name,\n",
    "            \"Period\": period,\n",
    "            \"Strategy\": strategy,\n",
    "            \"MOT\": stats['max_open_trades'],\n",
    "            \"Total_Profit\": stats['profit_total'],\n",
    "            \"Max_Drawdown\": stats['max_drawdown']\n",
    "        }\n",
    "        df = df.append(new_row, ignore_index=True)\n",
    "\n",
    "#print(df.to_string())"
   ]
  },
  {
   "cell_type": "code",
   "execution_count": null,
   "metadata": {},
   "outputs": [],
   "source": []
  }
 ],
 "metadata": {
  "file_extension": ".py",
  "kernelspec": {
   "display_name": "Python 3",
   "language": "python",
   "name": "python3"
  },
  "language_info": {
   "codemirror_mode": {
    "name": "ipython",
    "version": 3
   },
   "file_extension": ".py",
   "mimetype": "text/x-python",
   "name": "python",
   "nbconvert_exporter": "python",
   "pygments_lexer": "ipython3",
   "version": "3.9.5"
  },
  "mimetype": "text/x-python",
  "name": "python",
  "npconvert_exporter": "python",
  "pygments_lexer": "ipython3",
  "toc": {
   "base_numbering": 1,
   "nav_menu": {},
   "number_sections": true,
   "sideBar": true,
   "skip_h1_title": false,
   "title_cell": "Table of Contents",
   "title_sidebar": "Contents",
   "toc_cell": false,
   "toc_position": {},
   "toc_section_display": true,
   "toc_window_display": false
  },
  "varInspector": {
   "cols": {
    "lenName": 16,
    "lenType": 16,
    "lenVar": 40
   },
   "kernels_config": {
    "python": {
     "delete_cmd_postfix": "",
     "delete_cmd_prefix": "del ",
     "library": "var_list.py",
     "varRefreshCmd": "print(var_dic_list())"
    },
    "r": {
     "delete_cmd_postfix": ") ",
     "delete_cmd_prefix": "rm(",
     "library": "var_list.r",
     "varRefreshCmd": "cat(var_dic_list()) "
    }
   },
   "types_to_exclude": [
    "module",
    "function",
    "builtin_function_or_method",
    "instance",
    "_Feature"
   ],
   "window_display": false
  },
  "version": 3
 },
 "nbformat": 4,
 "nbformat_minor": 4
}
