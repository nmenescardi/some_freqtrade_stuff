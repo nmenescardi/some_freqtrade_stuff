{
 "cells": [
  {
   "cell_type": "code",
   "execution_count": 15,
   "metadata": {},
   "outputs": [
    {
     "name": "stdout",
     "output_type": "stream",
     "text": [
      "Results found on quantile 99\n",
      "   Backtest                  Period                  Strategy MOT  \\\n",
      "24           2021-01-01__2021-05-27  CombinedBinHClucAndMADV5   1   \n",
      "\n",
      "    Total_Profit  Max_Drawdown  \n",
      "24   5749.340391      0.172414  \n"
     ]
    }
   ],
   "source": [
    "import os\n",
    "os.chdir('/freqtrade/')\n",
    "\n",
    "\n",
    "import pandas as pd\n",
    "from freqtrade.data.btanalysis import load_backtest_data, load_backtest_stats\n",
    "from pathlib import Path\n",
    "\n",
    "backtest_dir = \"/freqtrade/user_data/backtest_results\"\n",
    "\n",
    "report_columns = [\n",
    "    \"Backtest\",\n",
    "    \"Period\",\n",
    "    \"Strategy\",\n",
    "    \"MOT\",\n",
    "    \"Total_Profit\",\n",
    "    \"Max_Drawdown\"\n",
    "]\n",
    "df = pd.DataFrame(columns = report_columns)\n",
    "\n",
    "backtest_list = Path(backtest_dir).rglob('*.json')\n",
    "for path in backtest_list:\n",
    "    backtest_file_path = str(path)\n",
    "        \n",
    "    if \".last_result.json\" in backtest_file_path:\n",
    "        continue\n",
    "\n",
    "    stats = load_backtest_stats(backtest_file_path)\n",
    "\n",
    "    import ntpath\n",
    "    backtest_name = ntpath.basename(backtest_file_path)\n",
    "    \n",
    "    for strategy, stats in stats['strategy'].items():\n",
    "        \n",
    "        period = stats['backtest_start'][0:10] + '__' + stats['backtest_end'][0:10]\n",
    "\n",
    "        new_row = {\n",
    "            \"Backtest\": '', #backtest_name,\n",
    "            \"Period\": period,\n",
    "            \"Strategy\": strategy,\n",
    "            \"MOT\": stats['max_open_trades'],\n",
    "            \"Total_Profit\": stats['profit_total'],\n",
    "            \"Max_Drawdown\": stats['max_drawdown']\n",
    "        }\n",
    "        df = df.append(new_row, ignore_index=True)\n",
    "\n",
    "\n",
    "def filter_df(df, amount_of_results = 2):\n",
    "    quantile = 100\n",
    "    found_results = False\n",
    "\n",
    "    while(not found_results):\n",
    "        quantile -= 1\n",
    "        tp_quantile = round(quantile / 100, 2)\n",
    "        dd_quantile = round(1 - tp_quantile, 2)\n",
    " \n",
    "        filtered_df = df.loc[ \n",
    "            (df.Total_Profit >= df.groupby('Period').Total_Profit.transform(pd.Series.quantile, tp_quantile)) &\n",
    "            (df.Max_Drawdown <= df.groupby('Period').Max_Drawdown.transform(pd.Series.quantile, dd_quantile))\n",
    "        ]\n",
    "        if(len(filtered_df) >= amount_of_results):\n",
    "            found_results = True\n",
    "\n",
    "    return filtered_df, quantile\n",
    "\n",
    "\n",
    "filtered_df, quantile = filter_df(df, amount_of_results = 1)\n",
    "print(\"Results found on quantile {}\".format(quantile))\n",
    "print(filtered_df.to_string())\n",
    "\n",
    "\n",
    "\n",
    "\n",
    "#print(\" All backtests: \")\n",
    "#print(df.to_string())\n"
   ]
  },
  {
   "cell_type": "code",
   "execution_count": null,
   "metadata": {},
   "outputs": [],
   "source": []
  }
 ],
 "metadata": {
  "file_extension": ".py",
  "kernelspec": {
   "display_name": "Python 3",
   "language": "python",
   "name": "python3"
  },
  "language_info": {
   "codemirror_mode": {
    "name": "ipython",
    "version": 3
   },
   "file_extension": ".py",
   "mimetype": "text/x-python",
   "name": "python",
   "nbconvert_exporter": "python",
   "pygments_lexer": "ipython3",
   "version": "3.9.5"
  },
  "mimetype": "text/x-python",
  "name": "python",
  "npconvert_exporter": "python",
  "pygments_lexer": "ipython3",
  "toc": {
   "base_numbering": 1,
   "nav_menu": {},
   "number_sections": true,
   "sideBar": true,
   "skip_h1_title": false,
   "title_cell": "Table of Contents",
   "title_sidebar": "Contents",
   "toc_cell": false,
   "toc_position": {},
   "toc_section_display": true,
   "toc_window_display": false
  },
  "varInspector": {
   "cols": {
    "lenName": 16,
    "lenType": 16,
    "lenVar": 40
   },
   "kernels_config": {
    "python": {
     "delete_cmd_postfix": "",
     "delete_cmd_prefix": "del ",
     "library": "var_list.py",
     "varRefreshCmd": "print(var_dic_list())"
    },
    "r": {
     "delete_cmd_postfix": ") ",
     "delete_cmd_prefix": "rm(",
     "library": "var_list.r",
     "varRefreshCmd": "cat(var_dic_list()) "
    }
   },
   "types_to_exclude": [
    "module",
    "function",
    "builtin_function_or_method",
    "instance",
    "_Feature"
   ],
   "window_display": false
  },
  "version": 3
 },
 "nbformat": 4,
 "nbformat_minor": 4
}
