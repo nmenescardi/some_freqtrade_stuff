{
 "cells": [
  {
   "cell_type": "code",
   "execution_count": 141,
   "metadata": {},
   "outputs": [
    {
     "name": "stdout",
     "output_type": "stream",
     "text": [
      "698.0676933035528\n",
      "0.3551453984999987\n",
      " Filtered DF - Top Profit/Low Drawdown: \n",
      "   Backtest                  Period                  Strategy MOT  Total_Profit  Max_Drawdown\n",
      "22           2021-01-01__2021-05-27     CombinedBinHAndClucV7   1   2012.901495      0.314052\n",
      "24           2021-01-01__2021-05-27  CombinedBinHClucAndMADV5   1   5749.340391      0.172414\n",
      " ********************** \n",
      " All backtests: \n",
      "   Backtest                  Period                  Strategy MOT  Total_Profit  Max_Drawdown\n",
      "0            2021-01-01__2021-05-27     CombinedBinHAndClucV6   2    321.227222      0.472416\n",
      "1            2021-01-01__2021-05-27    CombinedBinHAndClucV6H   2    627.775796      0.500656\n",
      "2            2021-01-01__2021-05-27     CombinedBinHAndClucV7   2    533.917267      0.452337\n",
      "3            2021-01-01__2021-05-27     CombinedBinHAndClucV8   2    735.917176      0.729101\n",
      "4            2021-01-01__2021-05-27  CombinedBinHClucAndMADV5   2    604.886380      0.235979\n",
      "5            2021-01-01__2021-05-27  CombinedBinHClucAndMADV3   2    472.678260      0.794198\n",
      "6            2021-01-01__2021-05-27  Obelisk_Ichimoku_ZEMA_v1   2    334.947470      0.825666\n",
      "7            2021-01-01__2021-05-27    NostalgiaForInfinityV1   2    160.336287      1.498768\n",
      "8            2021-01-01__2021-05-27    NostalgiaForInfinityV2   2    540.295568      0.888495\n",
      "9            2021-01-01__2021-05-27    NostalgiaForInfinityV3   2    296.960906      0.813282\n",
      "10           2021-01-01__2021-05-27     CombinedBinHAndClucV6   3    147.638158      0.591695\n",
      "11           2021-01-01__2021-05-27    CombinedBinHAndClucV6H   3    278.408600      0.625362\n",
      "12           2021-01-01__2021-05-27     CombinedBinHAndClucV7   3    267.156567      0.618149\n",
      "13           2021-01-01__2021-05-27     CombinedBinHAndClucV8   3    315.954886      0.780899\n",
      "14           2021-01-01__2021-05-27  CombinedBinHClucAndMADV5   3    200.112560      0.230984\n",
      "15           2021-01-01__2021-05-27  CombinedBinHClucAndMADV3   3    328.394178      0.721143\n",
      "16           2021-01-01__2021-05-27  Obelisk_Ichimoku_ZEMA_v1   3    283.222543      1.213761\n",
      "17           2021-01-01__2021-05-27    NostalgiaForInfinityV1   3    126.854860      1.628286\n",
      "18           2021-01-01__2021-05-27    NostalgiaForInfinityV2   3    252.249908      1.138368\n",
      "19           2021-01-01__2021-05-27    NostalgiaForInfinityV3   3    200.176185      0.887379\n",
      "20           2021-01-01__2021-05-27     CombinedBinHAndClucV6   1    103.209179      0.408303\n",
      "21           2021-01-01__2021-05-27    CombinedBinHAndClucV6H   1    274.209254      0.326522\n",
      "22           2021-01-01__2021-05-27     CombinedBinHAndClucV7   1   2012.901495      0.314052\n",
      "23           2021-01-01__2021-05-27     CombinedBinHAndClucV8   1    435.618234      0.633833\n",
      "24           2021-01-01__2021-05-27  CombinedBinHClucAndMADV5   1   5749.340391      0.172414\n",
      "25           2021-01-01__2021-05-27  CombinedBinHClucAndMADV3   1   1869.077453      0.484964\n",
      "26           2021-01-01__2021-05-27  Obelisk_Ichimoku_ZEMA_v1   1    176.559465      0.626929\n",
      "27           2021-01-01__2021-05-27    NostalgiaForInfinityV1   1    113.644637      0.996438\n",
      "28           2021-01-01__2021-05-27    NostalgiaForInfinityV2   1   1269.983566      0.650905\n",
      "29           2021-01-01__2021-05-27    NostalgiaForInfinityV3   1    377.039680      0.759899\n"
     ]
    }
   ],
   "source": [
    "import os\n",
    "os.chdir('/freqtrade/')\n",
    "\n",
    "\n",
    "import pandas as pd\n",
    "from freqtrade.data.btanalysis import load_backtest_data, load_backtest_stats\n",
    "from pathlib import Path\n",
    "\n",
    "backtest_dir = config[\"user_data_dir\"] / \"backtest_results\"\n",
    "\n",
    "report_columns = [\n",
    "    \"Backtest\",\n",
    "    \"Period\",\n",
    "    \"Strategy\",\n",
    "    \"MOT\",\n",
    "    \"Total_Profit\",\n",
    "    \"Max_Drawdown\"\n",
    "]\n",
    "df = pd.DataFrame(columns = report_columns)\n",
    "\n",
    "backtest_list = Path(backtest_dir).rglob('*.json')\n",
    "for path in backtest_list:\n",
    "    backtest_file_path = str(path)\n",
    "        \n",
    "    if \".last_result.json\" in backtest_file_path:\n",
    "        continue\n",
    "\n",
    "    stats = load_backtest_stats(backtest_file_path)\n",
    "\n",
    "    import ntpath\n",
    "    backtest_name = ntpath.basename(backtest_file_path)\n",
    "    \n",
    "    for strategy, stats in stats['strategy'].items():\n",
    "        \n",
    "        period = stats['backtest_start'][0:10] + '__' + stats['backtest_end'][0:10]\n",
    "\n",
    "        new_row = {\n",
    "            \"Backtest\": '', #backtest_name,\n",
    "            \"Period\": period,\n",
    "            \"Strategy\": strategy,\n",
    "            \"MOT\": stats['max_open_trades'],\n",
    "            \"Total_Profit\": stats['profit_total'],\n",
    "            \"Max_Drawdown\": stats['max_drawdown']\n",
    "        }\n",
    "        df = df.append(new_row, ignore_index=True)\n",
    "\n",
    "\n",
    "print(df.groupby('Period').Total_Profit.transform(pd.Series.quantile, 0.85)[0])\n",
    "print(df.groupby('Period').Max_Drawdown.transform(pd.Series.quantile, 0.15)[0])\n",
    "\n",
    "filtered_df = df.loc[ \n",
    "    (df.Total_Profit >= df.groupby('Period').Total_Profit.transform(pd.Series.quantile, 0.85)) &\n",
    "    (df.Max_Drawdown <= df.groupby('Period').Max_Drawdown.transform(pd.Series.quantile, 0.15))\n",
    "]\n",
    "print(\" Filtered DF - Top Profit/Low Drawdown: \")\n",
    "print(filtered_df.to_string())\n",
    "print(\" ********************** \")\n",
    "\n",
    "\n",
    "print(\" All backtests: \")\n",
    "print(df.to_string())\n"
   ]
  },
  {
   "cell_type": "code",
   "execution_count": null,
   "metadata": {},
   "outputs": [],
   "source": []
  }
 ],
 "metadata": {
  "file_extension": ".py",
  "kernelspec": {
   "display_name": "Python 3",
   "language": "python",
   "name": "python3"
  },
  "language_info": {
   "codemirror_mode": {
    "name": "ipython",
    "version": 3
   },
   "file_extension": ".py",
   "mimetype": "text/x-python",
   "name": "python",
   "nbconvert_exporter": "python",
   "pygments_lexer": "ipython3",
   "version": "3.9.5"
  },
  "mimetype": "text/x-python",
  "name": "python",
  "npconvert_exporter": "python",
  "pygments_lexer": "ipython3",
  "toc": {
   "base_numbering": 1,
   "nav_menu": {},
   "number_sections": true,
   "sideBar": true,
   "skip_h1_title": false,
   "title_cell": "Table of Contents",
   "title_sidebar": "Contents",
   "toc_cell": false,
   "toc_position": {},
   "toc_section_display": true,
   "toc_window_display": false
  },
  "varInspector": {
   "cols": {
    "lenName": 16,
    "lenType": 16,
    "lenVar": 40
   },
   "kernels_config": {
    "python": {
     "delete_cmd_postfix": "",
     "delete_cmd_prefix": "del ",
     "library": "var_list.py",
     "varRefreshCmd": "print(var_dic_list())"
    },
    "r": {
     "delete_cmd_postfix": ") ",
     "delete_cmd_prefix": "rm(",
     "library": "var_list.r",
     "varRefreshCmd": "cat(var_dic_list()) "
    }
   },
   "types_to_exclude": [
    "module",
    "function",
    "builtin_function_or_method",
    "instance",
    "_Feature"
   ],
   "window_display": false
  },
  "version": 3
 },
 "nbformat": 4,
 "nbformat_minor": 4
}
